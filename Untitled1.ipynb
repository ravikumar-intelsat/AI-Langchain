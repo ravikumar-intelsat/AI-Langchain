{
  "nbformat": 4,
  "nbformat_minor": 0,
  "metadata": {
    "colab": {
      "provenance": [],
      "authorship_tag": "ABX9TyOToE4soIdvaR4FbO+IxvYI",
      "include_colab_link": true
    },
    "kernelspec": {
      "name": "python3",
      "display_name": "Python 3"
    },
    "language_info": {
      "name": "python"
    }
  },
  "cells": [
    {
      "cell_type": "markdown",
      "metadata": {
        "id": "view-in-github",
        "colab_type": "text"
      },
      "source": [
        "<a href=\"https://colab.research.google.com/github/ravikumar-intelsat/AI-Langchain/blob/main/Untitled1.ipynb\" target=\"_parent\"><img src=\"https://colab.research.google.com/assets/colab-badge.svg\" alt=\"Open In Colab\"/></a>"
      ]
    },
    {
      "cell_type": "code",
      "source": [
        "import os\n",
        "from langchain_groq import ChatGroq\n",
        "from langchain_core.output_parsers import StrOutputParser\n",
        "from langchain_core.prompts import ChatPromptTemplate\n",
        "from langchain.document_loaders import WebBaseLoader\n",
        "from langchain.vectorstores import Chroma\n",
        "from langchain.embeddings import OpenAIEmbeddings\n",
        "from langchain.chains import RetrievalQA\n",
        "from langchain_google_vertexai import VertexAIEmbeddings\n",
        "from langchain_core.vectorstores import InMemoryVectorStore\n",
        "import vertexai\n",
        "\n",
        "PROJECT_ID = \"composed-maxim-443209-r4\"  # @param {type:\"string\"}\n",
        "LOCATION = \"us-central1\"  # @param {type:\"string\"}\n",
        "vertexai.init(project=PROJECT_ID, location=LOCATION)\n",
        "# Set up Groq API key\n",
        "os.environ[\"GROQ_API_KEY\"] = \"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\"\n",
        "# Initialize the a specific Embeddings Model version\n",
        "embeddings = VertexAIEmbeddings(model_name=\"text-embedding-004\")\n",
        "\n",
        "def fetch_website_content(url):\n",
        "    \"\"\"Fetches content from a website using LangChain's WebBaseLoader.\"\"\"\n",
        "    loader = WebBaseLoader(url)\n",
        "    data = loader.load()\n",
        "    return data[0].page_content  # Assuming you want the first page content\n",
        "\n",
        "# Initialize Groq model\n",
        "model = ChatGroq(model=\"llama3-8b-8192\")\n",
        "\n",
        "# Website URL\n",
        "website_url = \"https://srkrec.edu.in/principal_message.php\"\n",
        "\n",
        "# Fetch website content\n",
        "website_content = fetch_website_content(website_url)\n",
        "\n",
        "# Set up OpenAI API key (for embeddings)\n",
        "# os.environ[\"OPENAI_API_KEY\"] = \"YOUR_OPENAI_API_KEY\"  # Replace with your actual key\n",
        "\n",
        "# Create embeddings using OpenAIEmbeddings\n",
        "# embeddings = OpenAIEmbeddings()\n",
        "\n",
        "# Create Chroma database from the website content\n",
        "# persist_directory = \"db\"  # Choose a directory to store the database\n",
        "# vectordb = Chroma.from_texts(\n",
        "#     texts=[website_content], embedding=embeddings, persist_directory=persist_directory\n",
        "# )\n",
        "\n",
        "# # Create a retriever from the vector database\n",
        "# retriever = vectordb.as_retriever()\n",
        "\n",
        "vectorstore = InMemoryVectorStore.from_texts(\n",
        "    [website_content],\n",
        "    embedding=embeddings,\n",
        ")\n",
        "\n",
        "# Use the vectorstore as a retriever\n",
        "retriever = vectorstore.as_retriever()\n",
        "\n",
        "# Create a RetrievalQA chain using the Groq model and retriever\n",
        "qa = RetrievalQA.from_chain_type(\n",
        "    llm=model, chain_type=\"stuff\", retriever=retriever, return_source_documents=True\n",
        ")\n",
        "\n",
        "# Query the chain\n",
        "query = \"who is the principal of the college?\"\n",
        "result = qa({\"query\": query})\n",
        "\n",
        "# Access the answer and source documents\n",
        "print(result[\"result\"])\n",
        "print(result[\"source_documents\"])"
      ],
      "metadata": {
        "colab": {
          "base_uri": "https://localhost:8080/"
        },
        "id": "z-4Z5x8bwuIA",
        "outputId": "b12721ff-2d02-4855-aa0a-e00e99456195"
      },
      "execution_count": 9,
      "outputs": [
        {
          "output_type": "stream",
          "name": "stderr",
          "text": [
            "<ipython-input-9-11e716ffbc84>:66: LangChainDeprecationWarning: The method `Chain.__call__` was deprecated in langchain 0.1.0 and will be removed in 1.0. Use :meth:`~invoke` instead.\n",
            "  result = qa({\"query\": query})\n"
          ]
        },
        {
          "output_type": "stream",
          "name": "stdout",
          "text": [
            "According to the provided context, the Principal of Sagi Rama Krishnam Raju Engineering College (SRKREC) is Prof. K V Murali Krishnam Raju.\n",
            "[Document(id='08cb39bb-ba27-41f7-9f27-694441b39973', metadata={}, page_content=\"\\n\\n\\n\\n\\n\\n\\n\\n\\n\\n\\n\\n\\n\\n\\n\\n\\n\\nSRKR Engineering College - Bhimavaram\\n\\n\\n\\n\\n\\n\\n\\n\\n\\n\\n\\nApprovals | Accreditations\\n|\\nEAPCET / ECET CODE :  SRKR\\n|\\nM.TECH CODE :  SRKR1\\n|\\nBBA CODE :  17086\\n|\\n Contact Us\\n\\n\\n\\n\\n\\n\\n\\n\\nToggle navigation\\n\\n\\n\\n\\n\\n\\n\\n\\n\\n\\n\\nHome\\n\\n\\nAbout SRKR\\n\\nVision & Mission\\nCollege Profile\\nGoverning Body\\nCollege Advisory Council \\nCommittees\\nOrganogram\\nPresident's Message\\nDirector's Message\\nPrincipal's Message\\nAccreditations\\nAwards & Honours\\nProminent Alumni\\n\\n\\n\\nAcademics\\n\\nDepartments\\nUG Programmes\\nPG Programmes\\nPhD Programmes\\nBS & Humanities\\nAcademic Calendar\\nSyllabus\\nRegulations\\nTime Tables\\nExaminations\\nEducation Verification\\n\\n\\n\\nAdmissions\\n\\nProgrammes Offered\\nAdmission Procedure\\nIntake & Fee\\n\\nOnline Fee Payment\\nRank Cut-Off Details\\n\\n\\n\\nResearch\\n\\nResearch Advisory Committee\\nResearch Ethics Committee\\nCentre for Research & Development\\nR & D Cycle\\nCentres of Excellence\\nResearch Projects\\nWorkshops , Seminars & Training programmes\\n\\nScopus/WoS Publications\\nPatents\\nPhD Students Enrolled\\nPhD Degree Awarded\\n\\n\\n\\nAmenities\\n\\nGeneral Facilities\\nTechnology Centre\\nDigital Learning Centre\\nGeneral Computer Centre\\nCentre for Foreign Languages\\nLibrary\\nHostels\\nSports and Games\\nSRKREC – IELTS Test Centre(Pen & Paper Based)\\nInfrastructure Gallery\\nExtension Activities\\n\\n\\n\\nPlacements\\n\\n\\n\\n\\n\\n \\n\\n\\n\\n\\n\\n\\nHome\\nAbout\\n\\n\\n\\n\\n\\n\\n\\n\\n\\n\\n\\nAbout SRKR\\n\\n\\n\\n\\nHome\\nVision & Mission\\nCollege Profile\\nGoverning Body\\nCollege Advisory Council\\nCommittees\\nOrganogram\\nPresident's Message\\nDirector's Message\\nPrincipal's Message\\nAwards & Honors\\nProminent Alumni\\n\\n\\n\\n\\n\\n\\n\\n\\n\\nPrincipal's Message:\\n\\n\\n\\n\\n\\n\\n\\n\\r\\n                           Develop a passion for learning.If you do, you will never cease to grow.\\n\\n\\nAnthony J. D’Angelo\\n\\n\\n\\n\\n\\n\\n\\n\\n\\n\\nA warm welcome to Sagi Rama Krishnam Raju Engineering College (SRKREC)\\nIt is with great pleasure and enthusiasm that I extend my warmest greetings to each and every member of the S R K R Engineering College community. We take pride in our strong tradition of academic rigor combined with practical application, through a diverse array of programs, research opportunities, and extracurricular activities. We aim to provide a holistic education that goes beyond the classroom, preparing you for the challenges and opportunities that lie ahead.\\nThis was established in the year 1980 to take immense pride in our role as catalysts for empowering the rural youth in the realm of technical education and successfully completed four decades of its journey. As we step into this new phase, I am filled with a sense of pride for the rich legacy and reputation that our institution has built over the years. At S R K R Engineering College, we are committed to providing a nurturing environment where creativity, critical thinking, and technical prowess flourish. Our dedicated faculty, renowned for their expertise and unwavering dedication, are here to guide and inspire you in your academic journey.\\nWe believe in fostering a holistic education that not only equips you with the latest technical knowledge but also hones your communication, leadership, and teamwork skills. We encourage active participation in various clubs, societies, and projects that offer opportunities for hands-on learning and personal growth. I encourage you all to seize the multitude of opportunities that await you here. Your time at S R K R Engineering College is not only about earning a degree but also about the transformative journey that will shape your future.\\nIn addition, our commitment to fostering a culture of inclusivity and diversity ensures that every voice is valued and heard. This diversity of thought and experience enriches our learning environment, enabling us to tackle global challenges with creativity and empathy. Remember, your potential is limitless, and you have the power to make a significant impact on the world.\\nI look forward to witnessing your growth, achievements, and the positive impact you will undoubtedly have on the world and I have no doubt that together, we will continue to elevate the reputation of S R K R Engineering College.\\nWishing you all the best.\\n\\n\\nProf. K V Murali Krishnam Raju\\nPrincipal\\n\\n\\n\\n\\n\\n\\n\\n\\n\\n\\n\\n\\n\\n\\n\\n\\n\\nFollow us:\\n\\n\\n\\n\\n\\n\\n\\n\\n\\n\\n\\n\\n\\n\\n\\nAbout SRKR\\nSagi Rama Krishnam Raju Engineering College (SRKREC), established in 1980, is a self-financed academic institution of coeducation striving to provide a high quality technical education to engineering aspirants. Being one of the premier and well-established technical institutions of the country, it continues to render service to the nation and the world at large with its alumni holding highly prestigious positions and making substantial contribution. \\n                        \\n\\nView More\\n\\n\\n\\n\\n\\nImportant Links\\n\\n\\nInfrastructure\\nEducation Verification\\nDepartments\\nWeb-Mail\\n\\nOnline Grievance\\n\\nRTI Declaration\\n\\n\\n\\n\\n\\n\\nDownloads\\n\\nUGC Undertaking\\nAudited Statements\\nStatutes\\nAQAR\\nStrategic Plan & Deployment\\nAICTE Feedback\\n\\n\\n\\n\\n\\nContact Us\\n\\nSagi Rama Krishnam Raju (SRKR) Engineering College\\n\\n(Autonomous)\\n\\nSRKR Marg, China Amiram, \\n\\nBhimavaram, A.P, India - 534204\\n\\nTelephone: +91 (8816) 223332\\n                            \\nMobile: +91 9848823332\\nEmail: principal@srkrec.ac.in\\n\\n\\n\\n\\n\\n\\n\\n\\n\\n\\n\\nWEB DEVELOPMENT TEAM© 2022 | All Rights Reserved | SRKR Engineering College, Bhimavaram.\\n\\n\\n\\n\\n\\n\\n\\n\\n\\n\\n\\n\\n\\n\\n\\n\\n\\n\\n\\n\\n\\n\\n\\n\\n\")]\n"
          ]
        }
      ]
    },
    {
      "cell_type": "markdown",
      "source": [
        "!pip install chromadb langchain-groq langchain-community\n",
        "!pip install -qU langchain-google-vertexai\n",
        "\n",
        "\n"
      ],
      "metadata": {
        "id": "KTA3jbo17NDS"
      }
    },
    {
      "cell_type": "code",
      "source": [
        "import sys\n",
        "\n",
        "if \"google.colab\" in sys.modules:\n",
        "    from google.colab import auth\n",
        "\n",
        "    auth.authenticate_user()"
      ],
      "metadata": {
        "id": "-mfeNF401_se"
      },
      "execution_count": 6,
      "outputs": []
    },
    {
      "cell_type": "code",
      "source": [],
      "metadata": {
        "id": "zbDbOjT32AIp"
      },
      "execution_count": 7,
      "outputs": []
    }
  ]
}