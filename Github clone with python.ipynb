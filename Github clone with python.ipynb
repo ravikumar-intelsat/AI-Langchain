{
  "nbformat": 4,
  "nbformat_minor": 0,
  "metadata": {
    "colab": {
      "provenance": [],
      "authorship_tag": "ABX9TyNVWgpkZVVQdDOj/jP9j5Ah",
      "include_colab_link": true
    },
    "kernelspec": {
      "name": "python3",
      "display_name": "Python 3"
    },
    "language_info": {
      "name": "python"
    }
  },
  "cells": [
    {
      "cell_type": "markdown",
      "metadata": {
        "id": "view-in-github",
        "colab_type": "text"
      },
      "source": [
        "<a href=\"https://colab.research.google.com/github/ravikumar-intelsat/AI-Langchain/blob/main/Github%20clone%20with%20python.ipynb\" target=\"_parent\"><img src=\"https://colab.research.google.com/assets/colab-badge.svg\" alt=\"Open In Colab\"/></a>"
      ]
    },
    {
      "cell_type": "code",
      "execution_count": null,
      "metadata": {
        "id": "ku-GY5FIDl__"
      },
      "outputs": [],
      "source": [
        "!pip install langchain-community"
      ]
    },
    {
      "cell_type": "code",
      "source": [
        "import os\n",
        "import tempfile\n",
        "from git import Repo\n",
        "from langchain.text_splitter import RecursiveCharacterTextSplitter\n",
        "\n",
        "def clone_repo_to_memory(repo_url):\n",
        "    \"\"\"\n",
        "    Clone a Git repository to a temporary directory.\n",
        "    \"\"\"\n",
        "    temp_dir = tempfile.mkdtemp()\n",
        "    Repo.clone_from(repo_url, temp_dir)\n",
        "    return temp_dir\n",
        "\n",
        "def get_files_recursively(folder_path, file_extensions=None):\n",
        "    \"\"\"\n",
        "    Retrieve all files from a folder recursively, filtering by extensions.\n",
        "    \"\"\"\n",
        "    file_list = []\n",
        "    for root, _, files in os.walk(folder_path):\n",
        "        for file in files:\n",
        "            if not file_extensions or file.endswith(tuple(file_extensions)):\n",
        "                file_list.append(os.path.join(root, file))\n",
        "    return file_list\n",
        "\n",
        "def split_file_content(file_path, chunk_size=500, chunk_overlap=50):\n",
        "    \"\"\"\n",
        "    Split file content using RecursiveCharacterTextSplitter.\n",
        "    \"\"\"\n",
        "    with open(file_path, 'r', encoding='utf-8') as f:\n",
        "        content = f.read()\n",
        "\n",
        "    splitter = RecursiveCharacterTextSplitter(\n",
        "        chunk_size=chunk_size,\n",
        "        chunk_overlap=chunk_overlap,\n",
        "        separators=[\"\\n\\n\", \"\\n\", \" \"]  # Logical splitting\n",
        "    )\n",
        "    return splitter.split_text(content)\n",
        "\n",
        "def process_repo(repo_url, file_extensions=None):\n",
        "    \"\"\"\n",
        "    Clone a repo, split file contents recursively.\n",
        "    \"\"\"\n",
        "    repo_path = clone_repo_to_memory(repo_url)\n",
        "    files = get_files_recursively(repo_path, file_extensions)\n",
        "    for file in files:\n",
        "        print(f\"Processing: {file}\")\n",
        "        chunks = split_file_content(file)\n",
        "        for i, chunk in enumerate(chunks):\n",
        "            print(f\"Chunk {i+1}:\\n{chunk}\\n{'-'*20}\")\n",
        "\n",
        "# Example Usage\n",
        "repository_url = \"https://github.com/ravikumar-intelsat/AI-Langchain.git\"\n",
        "file_extensions = [\".ipynb\", \".js\"]  # Modify extensions based on your repo's content\n",
        "process_repo(repository_url, file_extensions)\n"
      ],
      "metadata": {
        "id": "avwd_3neD9mr"
      },
      "execution_count": null,
      "outputs": []
    }
  ]
}