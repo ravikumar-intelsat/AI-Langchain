{
  "nbformat": 4,
  "nbformat_minor": 0,
  "metadata": {
    "colab": {
      "provenance": [],
      "authorship_tag": "ABX9TyPQQ6RoEYXnbHyaKX1LU0On",
      "include_colab_link": true
    },
    "kernelspec": {
      "name": "python3",
      "display_name": "Python 3"
    },
    "language_info": {
      "name": "python"
    }
  },
  "cells": [
    {
      "cell_type": "markdown",
      "metadata": {
        "id": "view-in-github",
        "colab_type": "text"
      },
      "source": [
        "<a href=\"https://colab.research.google.com/github/ravikumar-intelsat/AI-Langchain/blob/main/grog%20sample2.ipynb\" target=\"_parent\"><img src=\"https://colab.research.google.com/assets/colab-badge.svg\" alt=\"Open In Colab\"/></a>"
      ]
    },
    {
      "cell_type": "code",
      "execution_count": 3,
      "metadata": {
        "colab": {
          "base_uri": "https://localhost:8080/"
        },
        "id": "c-G9B2bh_8Wk",
        "outputId": "0007ed99-6f6b-4c42-c9a6-d4009265277f"
      },
      "outputs": [
        {
          "output_type": "stream",
          "name": "stdout",
          "text": [
            "env: LANGCHAIN_TRACING_V2=True\n",
            "env: LANGCHAIN_API_KEY=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\n"
          ]
        }
      ],
      "source": [
        "%env LANGCHAIN_TRACING_V2=True\n",
        "%env LANGCHAIN_API_KEY=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"
      ]
    },
    {
      "cell_type": "code",
      "source": [
        "!pip install langchain_openai langchain_core\n",
        "\n"
      ],
      "metadata": {
        "id": "MXsV1OZyBEzw"
      },
      "execution_count": null,
      "outputs": []
    },
    {
      "cell_type": "code",
      "source": [
        "!pip install -qU langchain-groq\n"
      ],
      "metadata": {
        "colab": {
          "base_uri": "https://localhost:8080/"
        },
        "id": "9dYijm0XBiQL",
        "outputId": "bff86eb1-915b-4f8d-faa7-b4b6dc92e528"
      },
      "execution_count": 5,
      "outputs": [
        {
          "output_type": "stream",
          "name": "stdout",
          "text": [
            "\u001b[?25l   \u001b[90m━━━━━━━━━━━━━━━━━━━━━━━━━━━━━━━━━━━━━━━━\u001b[0m \u001b[32m0.0/108.8 kB\u001b[0m \u001b[31m?\u001b[0m eta \u001b[36m-:--:--\u001b[0m\r\u001b[2K   \u001b[90m━━━━━━━━━━━━━━━━━━━━━━━━━━━━━━━━━━━━━━━━\u001b[0m \u001b[32m108.8/108.8 kB\u001b[0m \u001b[31m4.1 MB/s\u001b[0m eta \u001b[36m0:00:00\u001b[0m\n",
            "\u001b[?25h"
          ]
        }
      ]
    },
    {
      "cell_type": "code",
      "source": [
        "from langchain_openai import ChatOpenAI\n",
        "from langchain_core.prompts import ChatPromptTemplate\n",
        "from langchain_core.output_parsers import StrOutputParser\n",
        "from langchain_groq import ChatGroq\n",
        "import os\n",
        "\n",
        "\n",
        "os.environ[\"GROQ_API_KEY\"] = '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'\n",
        "model = ChatGroq(model=\"llama3-8b-8192\")\n",
        "\n",
        "prompt = ChatPromptTemplate.from_messages([\n",
        "    (\"system\", \"You are a helpful assistant. Please respond to the user's request only based on the given context.\"),\n",
        "    (\"user\", \"Question: {question}\\nContext: {context}\")\n",
        "])\n",
        "output_parser = StrOutputParser()\n",
        "\n",
        "chain = prompt | model | output_parser\n",
        "\n",
        "question = \"Can you summarize this about elon mask only with in context in json format?\"\n",
        "context = \"\"\"Elon Musk is a prominent entrepreneur and innovator known for founding and leading various groundbreaking companies. He is the CEO of Tesla, focusing on electric vehicles and sustainable energy solutions, and SpaceX, advancing space exploration and reusable rocket technology. Musk is also involved with ventures like Neuralink, The Boring Company, and the social platform X (formerly Twitter), which he acquired in 2022.\"\"\"\n",
        "chain.invoke({\"question\": question, \"context\": context})"
      ],
      "metadata": {
        "colab": {
          "base_uri": "https://localhost:8080/",
          "height": 87
        },
        "id": "O_gFDG7HA-a1",
        "outputId": "eb439e96-84b7-4763-e3b4-b8576b0c57c3"
      },
      "execution_count": 11,
      "outputs": [
        {
          "output_type": "execute_result",
          "data": {
            "text/plain": [
              "'Here is a summary of Elon Musk in JSON format within the given context:\\n\\n```\\n{\\n  \"name\": \"Elon Musk\",\\n  \"profession\": \"Entrepreneur and Innovator\",\\n  \"companies\": [\\n    {\\n      \"name\": \"Tesla\",\\n      \"description\": \"Electric vehicles and sustainable energy solutions\"\\n    },\\n    {\\n      \"name\": \"SpaceX\",\\n      \"description\": \"Advancing space exploration and reusable rocket technology\"\\n    },\\n    \"Neuralink\",\\n    \"The Boring Company\",\\n    \"X (formerly Twitter)\"\\n  ],\\n  \"roles\": [\\n    {\\n      \"company\": \"Tesla\",\\n      \"role\": \"CEO\"\\n    }\\n  ]\\n}\\n```'"
            ],
            "application/vnd.google.colaboratory.intrinsic+json": {
              "type": "string"
            }
          },
          "metadata": {},
          "execution_count": 11
        }
      ]
    }
  ]
}