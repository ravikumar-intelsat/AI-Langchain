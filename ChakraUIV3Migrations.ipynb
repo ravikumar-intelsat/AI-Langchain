{
  "nbformat": 4,
  "nbformat_minor": 0,
  "metadata": {
    "colab": {
      "provenance": [],
      "authorship_tag": "ABX9TyMKrzksG85WnF/T4HQtDXGf",
      "include_colab_link": true
    },
    "kernelspec": {
      "name": "python3",
      "display_name": "Python 3"
    },
    "language_info": {
      "name": "python"
    }
  },
  "cells": [
    {
      "cell_type": "markdown",
      "metadata": {
        "id": "view-in-github",
        "colab_type": "text"
      },
      "source": [
        "<a href=\"https://colab.research.google.com/github/ravikumar-intelsat/AI-Langchain/blob/main/ChakraUIV3Migrations.ipynb\" target=\"_parent\"><img src=\"https://colab.research.google.com/assets/colab-badge.svg\" alt=\"Open In Colab\"/></a>"
      ]
    },
    {
      "cell_type": "code",
      "source": [
        "import sys\n",
        "\n",
        "if \"google.colab\" in sys.modules:\n",
        "    from google.colab import auth\n",
        "\n",
        "    auth.authenticate_user()"
      ],
      "metadata": {
        "id": "ivMbfoERJGmx"
      },
      "execution_count": 36,
      "outputs": []
    },
    {
      "cell_type": "code",
      "source": [
        "!pip install -qU langchain-google-vertexai\n",
        "!pip install google-cloud-aiplatform langchain\n",
        "!pip install faiss-cpu\n",
        "!pip install  langchain-community"
      ],
      "metadata": {
        "id": "z-b_qesfJO3Z"
      },
      "execution_count": null,
      "outputs": []
    },
    {
      "cell_type": "code",
      "source": [
        "!pip install -qU langchain-google-genai\n"
      ],
      "metadata": {
        "id": "5zs32ldFSXzI"
      },
      "execution_count": 13,
      "outputs": []
    },
    {
      "cell_type": "code",
      "source": [
        "%pip install -qU langchain-text-splitters\n",
        "\n"
      ],
      "metadata": {
        "id": "ahaJhNZzu0vU"
      },
      "execution_count": 30,
      "outputs": []
    },
    {
      "cell_type": "code",
      "source": [
        "!pip install -qU langchain-groq"
      ],
      "metadata": {
        "id": "IPjw0QyLPDE_"
      },
      "execution_count": 7,
      "outputs": []
    },
    {
      "cell_type": "code",
      "execution_count": null,
      "metadata": {
        "id": "ku-GY5FIDl__"
      },
      "outputs": [],
      "source": [
        "!pip install langchain-community"
      ]
    },
    {
      "cell_type": "code",
      "source": [
        "import os\n",
        "import tempfile\n",
        "from git import Repo\n",
        "from langchain.text_splitter import RecursiveCharacterTextSplitter\n",
        "from google.cloud import aiplatform\n",
        "from langchain_google_vertexai import VertexAIEmbeddings\n",
        "from langchain.vectorstores import FAISS\n",
        "from langchain.chains import RetrievalQA\n",
        "from langchain.llms import VertexAI\n",
        "from langchain.prompts import PromptTemplate\n",
        "import vertexai\n",
        "from langchain_groq import ChatGroq\n",
        "from langchain_google_genai import GoogleGenerativeAI as Gemini # Import Gemini from langchain_google_genai\n",
        "from langchain_text_splitters import (\n",
        "    Language,\n",
        "    RecursiveCharacterTextSplitter,\n",
        ")\n",
        "from langchain_core.output_parsers import StrOutputParser\n",
        "from langchain_core.prompts import ChatPromptTemplate\n",
        "from langchain_core.runnables import RunnableParallel, RunnablePassthrough\n",
        "\n",
        "\n",
        "\n",
        "\n",
        "def clone_repo_to_memory(repo_url):\n",
        "    \"\"\"Clone a Git repository to a temporary directory.\"\"\"\n",
        "    temp_dir = tempfile.mkdtemp()\n",
        "    Repo.clone_from(repo_url, temp_dir)\n",
        "    return temp_dir\n",
        "\n",
        "\n",
        "def get_files_recursively(folder_path, file_extensions=None):\n",
        "    \"\"\"Retrieve all files from a folder recursively, filtering by extensions.\"\"\"\n",
        "    file_list = []\n",
        "    for root, _, files in os.walk(folder_path):\n",
        "        for file in files:\n",
        "            if not file_extensions or file.endswith(tuple(file_extensions)):\n",
        "                file_list.append(os.path.join(root, file))\n",
        "    return file_list\n",
        "\n",
        "\n",
        "def split_file_content(file_path, chunk_size=500, chunk_overlap=50):\n",
        "    \"\"\"Split file content using RecursiveCharacterTextSplitter.\"\"\"\n",
        "    with open(file_path, 'r', encoding='utf-8') as f:\n",
        "        content = f.read()\n",
        "        ts_splitter = RecursiveCharacterTextSplitter.from_language( language=Language.TS, chunk_size=60, chunk_overlap=0)\n",
        "    return ts_splitter.create_documents([content])\n",
        "\n",
        "\n",
        "def process_repo(repo_url, file_extensions=None):\n",
        "    \"\"\"Clone a repo, split file contents recursively.\"\"\"\n",
        "    repo_path = clone_repo_to_memory(repo_url)\n",
        "    files = get_files_recursively(repo_path, file_extensions)\n",
        "    all_chunks = []\n",
        "    for file in files:\n",
        "        chunks = split_file_content(file)\n",
        "        all_chunks.extend(chunks)\n",
        "    return all_chunks\n",
        "\n",
        "\n",
        "# Initialize Google Vertex AI\n",
        "PROJECT_ID = \"composed-maxim-443209-r4\"  # @param {type:\"string\"}\n",
        "LOCATION = \"us-central1\"  # @param {type:\"string\"}\n",
        "vertexai.init(project=PROJECT_ID, location=LOCATION)\n",
        "# Set up Groq API key\n",
        "embedding = VertexAIEmbeddings(model_name=\"text-embedding-004\")\n",
        "# model = ChatGroq(model=\"llama3-8b-8192\")\n",
        "os.environ[\"GROQ_API_KEY\"] = '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'\n",
        "model = ChatGroq(model=\"llama3-8b-8192\")\n",
        "repository_url = \"https://github.com/chakra-ui/chakra-ui\"\n",
        "file_extensions = [\".ipynb\", \".js\", \".ts\", \".tsx\", \".md\"]\n",
        "documents = process_repo(repository_url, file_extensions)\n",
        "print(f\"Total documents: {len(documents)}\")\n",
        "#write code to print all documents\n",
        "# for document in documents:\n",
        "#     print(document)\n",
        "\n",
        "# write code load above documents to FAISS\n",
        "vector_db = FAISS.from_documents(documents, embedding)\n",
        "\n",
        "retriever = vector_db.as_retriever()\n",
        "\n",
        "template = \"\"\"Answer the question based only on the following context:\n",
        "Now you are expert in React.js and chakra UI.\n",
        "need to help in components from v2 to v3 using below context\n",
        "{context}\n",
        "\n",
        "Question: {question}\n",
        "\"\"\"\n",
        "prompt = ChatPromptTemplate.from_template(template)\n",
        "output_parser = StrOutputParser()\n",
        "\n",
        "setup_and_retrieval = RunnableParallel(\n",
        "    {\"context\": retriever, \"question\": RunnablePassthrough()}\n",
        ")\n",
        "chain = setup_and_retrieval | prompt | model | output_parser\n",
        "\n",
        "chain.invoke(\"\"\"<Accordion>\n",
        "  <AccordionItem>\n",
        "    <h2>\n",
        "      <AccordionButton>\n",
        "        <Box as='span' flex='1' textAlign='left'>\n",
        "          Section 1 title\n",
        "        </Box>\n",
        "        <AccordionIcon />\n",
        "      </AccordionButton>\n",
        "    </h2>\n",
        "    <AccordionPanel pb={4}>\n",
        "      Lorem ipsum dolor sit amet, consectetur adipiscing elit, sed do eiusmod\n",
        "      tempor incididunt ut labore et dolore magna aliqua. Ut enim ad minim\n",
        "      veniam, quis nostrud exercitation ullamco laboris nisi ut aliquip ex ea\n",
        "      commodo consequat.\n",
        "    </AccordionPanel>\n",
        "  </AccordionItem>\n",
        "\n",
        "  <AccordionItem>\n",
        "    <h2>\n",
        "      <AccordionButton>\n",
        "        <Box as='span' flex='1' textAlign='left'>\n",
        "          Section 2 title\n",
        "        </Box>\n",
        "        <AccordionIcon />\n",
        "      </AccordionButton>\n",
        "    </h2>\n",
        "    <AccordionPanel pb={4}>\n",
        "      Lorem ipsum dolor sit amet, consectetur adipiscing elit, sed do eiusmod\n",
        "      tempor incididunt ut labore et dolore magna aliqua. Ut enim ad minim\n",
        "      veniam, quis nostrud exercitation ullamco laboris nisi ut aliquip ex ea\n",
        "      commodo consequat.\n",
        "    </AccordionPanel>\n",
        "  </AccordionItem>\n",
        "</Accordion>\"\"\")\n",
        "#\n",
        "\n",
        "# # Store in Vector Database (FAISS)\n",
        "# vector_db = FAISS.from_documents(documents, embedding)\n",
        "\n",
        "# # Step 4: Create a QA chain\n",
        "# qa_chain = RetrievalQA.from_chain_type(\n",
        "#     llm=model,\n",
        "#     retriever=vector_db.as_retriever()\n",
        "# )\n",
        "\n",
        "# # Step 5: Query the model\n",
        "# query = \"What is the main topic of the document?\"\n",
        "# results = qa_chain.run(query)\n",
        "\n",
        "# # Example Chakra UI v2 component\n",
        "# v2_component = \"\"\"\n",
        "# <Accordion>\n",
        "#   <AccordionItem>\n",
        "#     <h2>\n",
        "#       <AccordionButton>\n",
        "#         <Box as='span' flex='1' textAlign='left'>\n",
        "#           Section 1 title\n",
        "#         </Box>\n",
        "#         <AccordionIcon />\n",
        "#       </AccordionButton>\n",
        "#     </h2>\n",
        "#     <AccordionPanel pb={4}>\n",
        "#       Lorem ipsum dolor sit amet, consectetur adipiscing elit, sed do eiusmod\n",
        "#       tempor incididunt ut labore et dolore magna aliqua. Ut enim ad minim\n",
        "#       veniam, quis nostrud exercitation ullamco laboris nisi ut aliquip ex ea\n",
        "#       commodo consequat.\n",
        "#     </AccordionPanel>\n",
        "#   </AccordionItem>\n",
        "#   <AccordionItem>\n",
        "#     <h2>\n",
        "#       <AccordionButton>\n",
        "#         <Box as='span' flex='1' textAlign='left'>\n",
        "#           Section 2 title\n",
        "#         </Box>\n",
        "#         <AccordionIcon />\n",
        "#       </AccordionButton>\n",
        "#     </h2>\n",
        "#     <AccordionPanel pb={4}>\n",
        "#       Lorem ipsum dolor sit amet, consectetur adipiscing elit, sed do eiusmod\n",
        "#       tempor incididunt ut labore et dolore magna aliqua. Ut enim ad minim\n",
        "#       veniam, quis nostrud exercitation ullamco laboris nisi ut aliquip ex ea\n",
        "#       commodo consequat.\n",
        "#     </AccordionPanel>\n",
        "#   </AccordionItem>\n",
        "# </Accordion>\n",
        "# \"\"\""
      ],
      "metadata": {
        "id": "avwd_3neD9mr",
        "colab": {
          "base_uri": "https://localhost:8080/",
          "height": 122
        },
        "outputId": "e4917b23-3b87-4588-c289-1e6ff4cb7367"
      },
      "execution_count": 35,
      "outputs": [
        {
          "output_type": "stream",
          "name": "stdout",
          "text": [
            "Total documents: 64375\n"
          ]
        },
        {
          "output_type": "execute_result",
          "data": {
            "text/plain": [
              "\"To upgrade this component from Chakra UI v2 to v3, I would suggest the following changes:\\n\\n1. Replace `Accordion` with `AccordionGroup`:\\n```jsx\\n<AccordionGroup>\\n  // ...\\n</AccordionGroup>\\n```\\nIn v3, `Accordion` has been renamed to `AccordionGroup`.\\n\\n2. Replace `AccordionItem` with `AccordionItem` (no change needed):\\n```jsx\\n<AccordionItem>\\n  // ...\\n</AccordionItem>\\n```\\nThe `AccordionItem` component remains the same in v3.\\n\\n3. Update `AccordionButton` and `AccordionPanel` to use the new `AccordionItem` API:\\n```jsx\\n<AccordionItem>\\n  <AccordionItemHeading>\\n    <h2>\\n      <AccordionItemButton>\\n        <Box as='span' flex='1' textAlign='left'>\\n          Section 1 title\\n        </Box>\\n        <AccordionIcon />\\n      </AccordionItemButton>\\n    </h2>\\n  </AccordionItemHeading>\\n  <AccordionItemContent pb={4}>\\n    Lorem ipsum dolor sit amet, consectetur adipiscing elit, sed do eiusmod\\n    tempor incididunt ut labore et dolore magna aliqua. Ut enim ad minim\\n    veniam, quis nostrud exercitation ullamco laboris nisi ut aliquip ex ea\\n    commodo consequat.\\n  </AccordionItemContent>\\n</AccordionItem>\\n\\n<AccordionItem>\\n  <AccordionItemHeading>\\n    <h2>\\n      <AccordionItemButton>\\n        <Box as='span' flex='1' textAlign='left'>\\n          Section 2 title\\n        </Box>\\n        <AccordionIcon />\\n      </AccordionItemButton>\\n    </h2>\\n  </AccordionItemHeading>\\n  <AccordionItemContent pb={4}>\\n    Lorem ipsum dolor sit amet, consectetur adipiscing elit, sed do eiusmod\\n    tempor incididunt ut labore et dolore magna aliqua. Ut enim ad minim\\n    veniam, quis nostrud exercitation ullamco laboris nisi ut aliquip ex ea\\n    commodo consequat.\\n  </AccordionItemContent>\\n</AccordionItem>\\n```\\nIn v3, `AccordionButton` and `AccordionPanel` have been replaced with `AccordionItemHeading` and `AccordionItemContent`, respectively. `AccordionItemHeading` contains the title and button, while `AccordionItemContent` contains the panel content.\\n\\nThat's it! With these changes, your component should be compatible with Chakra UI v3.\""
            ],
            "application/vnd.google.colaboratory.intrinsic+json": {
              "type": "string"
            }
          },
          "metadata": {},
          "execution_count": 35
        }
      ]
    }
  ]
}